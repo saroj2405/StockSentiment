{
 "cells": [
  {
   "cell_type": "markdown",
   "id": "6c824553-5cc0-42e0-9f9e-6a6fc888b368",
   "metadata": {},
   "source": [
    "# DATA LOADING AND CLEANING"
   ]
  },
  {
   "cell_type": "code",
   "execution_count": 1,
   "id": "c0f49b5f-9545-4c9e-b745-e94d2deae9f9",
   "metadata": {},
   "outputs": [
    {
     "name": "stdout",
     "output_type": "stream",
     "text": [
      "<class 'pandas.core.frame.DataFrame'>\n",
      "RangeIndex: 200 entries, 0 to 199\n",
      "Data columns (total 3 columns):\n",
      " #   Column     Non-Null Count  Dtype  \n",
      "---  ------     --------------  -----  \n",
      " 0   date       200 non-null    object \n",
      " 1   sender_id  200 non-null    float64\n",
      " 2   text       196 non-null    object \n",
      "dtypes: float64(1), object(2)\n",
      "memory usage: 4.8+ KB\n",
      "None\n",
      "                        date     sender_id  \\\n",
      "0  2024-12-04 09:18:49+00:00 -1.001190e+12   \n",
      "1  2024-12-04 09:13:47+00:00 -1.001190e+12   \n",
      "2  2024-12-04 09:09:06+00:00 -1.001190e+12   \n",
      "3  2024-12-04 08:50:37+00:00 -1.001190e+12   \n",
      "4  2024-12-04 08:50:28+00:00 -1.001190e+12   \n",
      "\n",
      "                                                text  \n",
      "0                                                533  \n",
      "1  Equity Pick \\n\\nBTST\\n\\nVIEW \\n\\nSIYARAM SILK ...  \n",
      "2                                            3690 🔥🔥  \n",
      "3      **TO JOIN PRIME GROUP**, `PING` @SG005 ✔️✔️✔️  \n",
      "4  THAT IS THE FEEDBACK WE LOVE TO SEE FROM OUR P...  \n"
     ]
    }
   ],
   "source": [
    "import pandas as pd\n",
    "\n",
    "# Load the data\n",
    "df = pd.read_csv(\"telegram_messages.csv\")\n",
    "\n",
    "# Display basic information about the data\n",
    "print(df.info())\n",
    "print(df.head())\n"
   ]
  },
  {
   "cell_type": "code",
   "execution_count": 2,
   "id": "2be71ec8-a8b7-4a56-b573-e98604a0095c",
   "metadata": {},
   "outputs": [
    {
     "name": "stdout",
     "output_type": "stream",
     "text": [
      "date         0\n",
      "sender_id    0\n",
      "text         4\n",
      "dtype: int64\n"
     ]
    }
   ],
   "source": [
    "# Check for missing values\n",
    "print(df.isnull().sum())\n",
    "\n",
    "# Drop rows with missing message text (if text is your main focus)\n",
    "df = df.dropna(subset=[\"text\"])\n",
    "\n",
    "# Optionally, fill missing values in other columns\n",
    "df[\"sender_id\"] = df[\"sender_id\"].fillna(\"Unknown\")\n",
    "\n",
    "# Save the cleaned file for reference\n",
    "df.to_csv(\"cleaned_telegram_messages.csv\", index=False)\n"
   ]
  },
  {
   "cell_type": "code",
   "execution_count": 3,
   "id": "91c38def-c61f-4081-9b80-1b0ae28469b8",
   "metadata": {},
   "outputs": [],
   "source": [
    "# Remove duplicate messages\n",
    "df = df.drop_duplicates(subset=[\"text\"])\n",
    "\n",
    "# Save the file\n",
    "df.to_csv(\"deduplicated_telegram_messages.csv\", index=False)\n"
   ]
  },
  {
   "cell_type": "code",
   "execution_count": 4,
   "id": "3e5106ab-f43e-49f3-8502-da1bd3029fac",
   "metadata": {},
   "outputs": [],
   "source": [
    "import re\n",
    "\n",
    "# Function to clean text\n",
    "def clean_text(text):\n",
    "    text = re.sub(r\"http\\S+\", \"\", text)  # Remove URLs\n",
    "    text = re.sub(r\"\\s+\", \" \", text)    # Remove extra whitespace\n",
    "    text = re.sub(r\"[^a-zA-Z0-9\\s]\", \"\", text)  # Remove special characters\n",
    "    return text.strip().lower()  # Convert to lowercase and strip whitespace\n",
    "\n",
    "# Apply the cleaning function\n",
    "df[\"text\"] = df[\"text\"].apply(clean_text)\n",
    "\n",
    "# Save the cleaned text data\n",
    "df.to_csv(\"normalized_telegram_messages.csv\", index=False)\n"
   ]
  },
  {
   "cell_type": "code",
   "execution_count": 6,
   "id": "7fd6580e-e5e5-4b15-b857-80172fb0e5a4",
   "metadata": {},
   "outputs": [
    {
     "name": "stdout",
     "output_type": "stream",
     "text": [
      "Collecting nltk\n",
      "  Downloading nltk-3.9.1-py3-none-any.whl.metadata (2.9 kB)\n",
      "Requirement already satisfied: click in c:\\users\\saroj\\appdata\\local\\programs\\python\\python312\\lib\\site-packages (from nltk) (8.1.7)\n",
      "Collecting joblib (from nltk)\n",
      "  Downloading joblib-1.4.2-py3-none-any.whl.metadata (5.4 kB)\n",
      "Collecting regex>=2021.8.3 (from nltk)\n",
      "  Downloading regex-2024.11.6-cp312-cp312-win_amd64.whl.metadata (41 kB)\n",
      "     ---------------------------------------- 0.0/41.5 kB ? eta -:--:--\n",
      "     --------- ------------------------------ 10.2/41.5 kB ? eta -:--:--\n",
      "     ------------------ ------------------- 20.5/41.5 kB 320.0 kB/s eta 0:00:01\n",
      "     -------------------------------------- 41.5/41.5 kB 333.1 kB/s eta 0:00:00\n",
      "Requirement already satisfied: tqdm in c:\\users\\saroj\\appdata\\local\\programs\\python\\python312\\lib\\site-packages (from nltk) (4.67.0)\n",
      "Requirement already satisfied: colorama in c:\\users\\saroj\\appdata\\local\\programs\\python\\python312\\lib\\site-packages (from click->nltk) (0.4.6)\n",
      "Downloading nltk-3.9.1-py3-none-any.whl (1.5 MB)\n",
      "   ---------------------------------------- 0.0/1.5 MB ? eta -:--:--\n",
      "   - -------------------------------------- 0.1/1.5 MB 1.6 MB/s eta 0:00:01\n",
      "   ----- ---------------------------------- 0.2/1.5 MB 2.0 MB/s eta 0:00:01\n",
      "   -------- ------------------------------- 0.3/1.5 MB 2.2 MB/s eta 0:00:01\n",
      "   ----------- ---------------------------- 0.4/1.5 MB 2.4 MB/s eta 0:00:01\n",
      "   ----------- ---------------------------- 0.4/1.5 MB 2.0 MB/s eta 0:00:01\n",
      "   -------------- ------------------------- 0.6/1.5 MB 2.0 MB/s eta 0:00:01\n",
      "   ----------------- ---------------------- 0.7/1.5 MB 2.1 MB/s eta 0:00:01\n",
      "   -------------------- ------------------- 0.8/1.5 MB 2.0 MB/s eta 0:00:01\n",
      "   ------------------------- -------------- 0.9/1.5 MB 2.2 MB/s eta 0:00:01\n",
      "   ----------------------------- ---------- 1.1/1.5 MB 2.4 MB/s eta 0:00:01\n",
      "   ------------------------------- -------- 1.2/1.5 MB 2.4 MB/s eta 0:00:01\n",
      "   ------------------------------------ --- 1.4/1.5 MB 2.4 MB/s eta 0:00:01\n",
      "   ---------------------------------------  1.5/1.5 MB 2.5 MB/s eta 0:00:01\n",
      "   ---------------------------------------- 1.5/1.5 MB 2.4 MB/s eta 0:00:00\n",
      "Downloading regex-2024.11.6-cp312-cp312-win_amd64.whl (273 kB)\n",
      "   ---------------------------------------- 0.0/273.6 kB ? eta -:--:--\n",
      "   -------------------------------------- - 266.2/273.6 kB 5.6 MB/s eta 0:00:01\n",
      "   ---------------------------------------- 273.6/273.6 kB 4.2 MB/s eta 0:00:00\n",
      "Downloading joblib-1.4.2-py3-none-any.whl (301 kB)\n",
      "   ---------------------------------------- 0.0/301.8 kB ? eta -:--:--\n",
      "   ----------------------------- ---------- 225.3/301.8 kB 6.9 MB/s eta 0:00:01\n",
      "   ---------------------------------------- 301.8/301.8 kB 3.7 MB/s eta 0:00:00\n",
      "Installing collected packages: regex, joblib, nltk\n",
      "Successfully installed joblib-1.4.2 nltk-3.9.1 regex-2024.11.6\n"
     ]
    },
    {
     "name": "stderr",
     "output_type": "stream",
     "text": [
      "\n",
      "[notice] A new release of pip is available: 24.0 -> 24.3.1\n",
      "[notice] To update, run: python.exe -m pip install --upgrade pip\n"
     ]
    }
   ],
   "source": [
    "!pip install nltk"
   ]
  },
  {
   "cell_type": "code",
   "execution_count": 7,
   "id": "032f1947-d386-419b-953d-7d0261e105b3",
   "metadata": {},
   "outputs": [
    {
     "name": "stderr",
     "output_type": "stream",
     "text": [
      "[nltk_data] Downloading package stopwords to\n",
      "[nltk_data]     C:\\Users\\saroj\\AppData\\Roaming\\nltk_data...\n",
      "[nltk_data]   Unzipping corpora\\stopwords.zip.\n"
     ]
    }
   ],
   "source": [
    "from nltk.corpus import stopwords\n",
    "import nltk\n",
    "\n",
    "nltk.download(\"stopwords\")\n",
    "stop_words = set(stopwords.words(\"english\"))\n",
    "\n",
    "# Remove stopwords\n",
    "df[\"text\"] = df[\"text\"].apply(lambda x: \" \".join([word for word in x.split() if word not in stop_words]))\n",
    "\n",
    "# Save the cleaned data\n",
    "df.to_csv(\"stopwords_removed_telegram_messages.csv\", index=False)\n"
   ]
  },
  {
   "cell_type": "code",
   "execution_count": 8,
   "id": "93ce8a55-433f-4e61-8fc4-7455751783b4",
   "metadata": {},
   "outputs": [],
   "source": [
    "df.to_csv(\"final_cleaned_telegram_messages.csv\", index=False)\n"
   ]
  },
  {
   "cell_type": "code",
   "execution_count": 9,
   "id": "939081a2-bef2-429f-b68a-fae2aab2ec92",
   "metadata": {},
   "outputs": [
    {
     "name": "stdout",
     "output_type": "stream",
     "text": [
      "                        date     sender_id  \\\n",
      "0  2024-12-04 09:18:49+00:00 -1.001190e+12   \n",
      "1  2024-12-04 09:13:47+00:00 -1.001190e+12   \n",
      "2  2024-12-04 09:09:06+00:00 -1.001190e+12   \n",
      "3  2024-12-04 08:50:37+00:00 -1.001190e+12   \n",
      "4  2024-12-04 08:50:28+00:00 -1.001190e+12   \n",
      "\n",
      "                                                text  \n",
      "0                                                533  \n",
      "1  equity pick btst view siyaram silk cmp 860865 ...  \n",
      "2                                               3690  \n",
      "3                        join prime group ping sg005  \n",
      "4                    feedback love see prime traders  \n",
      "<class 'pandas.core.frame.DataFrame'>\n",
      "Index: 189 entries, 0 to 199\n",
      "Data columns (total 3 columns):\n",
      " #   Column     Non-Null Count  Dtype  \n",
      "---  ------     --------------  -----  \n",
      " 0   date       189 non-null    object \n",
      " 1   sender_id  189 non-null    float64\n",
      " 2   text       189 non-null    object \n",
      "dtypes: float64(1), object(2)\n",
      "memory usage: 5.9+ KB\n",
      "None\n",
      "          sender_id\n",
      "count  1.890000e+02\n",
      "mean  -1.001190e+12\n",
      "std    0.000000e+00\n",
      "min   -1.001190e+12\n",
      "25%   -1.001190e+12\n",
      "50%   -1.001190e+12\n",
      "75%   -1.001190e+12\n",
      "max   -1.001190e+12\n"
     ]
    }
   ],
   "source": [
    "# Check the first few rows\n",
    "print(df.head())\n",
    "\n",
    "# Get basic statistics and info\n",
    "print(df.info())\n",
    "print(df.describe())\n"
   ]
  },
  {
   "cell_type": "code",
   "execution_count": 10,
   "id": "45988d33-43c3-419a-b054-471ff8af7608",
   "metadata": {},
   "outputs": [
    {
     "name": "stdout",
     "output_type": "stream",
     "text": [
      "Collecting TextBlob\n",
      "  Downloading textblob-0.18.0.post0-py3-none-any.whl.metadata (4.5 kB)\n",
      "Requirement already satisfied: nltk>=3.8 in c:\\users\\saroj\\appdata\\local\\programs\\python\\python312\\lib\\site-packages (from TextBlob) (3.9.1)\n",
      "Requirement already satisfied: click in c:\\users\\saroj\\appdata\\local\\programs\\python\\python312\\lib\\site-packages (from nltk>=3.8->TextBlob) (8.1.7)\n",
      "Requirement already satisfied: joblib in c:\\users\\saroj\\appdata\\local\\programs\\python\\python312\\lib\\site-packages (from nltk>=3.8->TextBlob) (1.4.2)\n",
      "Requirement already satisfied: regex>=2021.8.3 in c:\\users\\saroj\\appdata\\local\\programs\\python\\python312\\lib\\site-packages (from nltk>=3.8->TextBlob) (2024.11.6)\n",
      "Requirement already satisfied: tqdm in c:\\users\\saroj\\appdata\\local\\programs\\python\\python312\\lib\\site-packages (from nltk>=3.8->TextBlob) (4.67.0)\n",
      "Requirement already satisfied: colorama in c:\\users\\saroj\\appdata\\local\\programs\\python\\python312\\lib\\site-packages (from click->nltk>=3.8->TextBlob) (0.4.6)\n",
      "Downloading textblob-0.18.0.post0-py3-none-any.whl (626 kB)\n",
      "   ---------------------------------------- 0.0/626.3 kB ? eta -:--:--\n",
      "    --------------------------------------- 10.2/626.3 kB ? eta -:--:--\n",
      "   - ------------------------------------- 30.7/626.3 kB 330.3 kB/s eta 0:00:02\n",
      "   ------ ------------------------------- 112.6/626.3 kB 939.4 kB/s eta 0:00:01\n",
      "   ---------------------- ----------------- 358.4/626.3 kB 2.2 MB/s eta 0:00:01\n",
      "   ---------------------------------------  624.6/626.3 kB 3.0 MB/s eta 0:00:01\n",
      "   ---------------------------------------- 626.3/626.3 kB 2.8 MB/s eta 0:00:00\n",
      "Installing collected packages: TextBlob\n",
      "Successfully installed TextBlob-0.18.0.post0\n"
     ]
    },
    {
     "name": "stderr",
     "output_type": "stream",
     "text": [
      "\n",
      "[notice] A new release of pip is available: 24.0 -> 24.3.1\n",
      "[notice] To update, run: python.exe -m pip install --upgrade pip\n"
     ]
    }
   ],
   "source": [
    "!pip install TextBlob"
   ]
  },
  {
   "cell_type": "code",
   "execution_count": 11,
   "id": "c07709d3-cc1e-49c4-a65a-ef9258da688d",
   "metadata": {},
   "outputs": [],
   "source": [
    "from textblob import TextBlob\n",
    "\n",
    "# Add a sentiment column\n",
    "df[\"sentiment\"] = df[\"text\"].apply(lambda x: TextBlob(x).sentiment.polarity)\n",
    "\n",
    "# Categorize the sentiment\n",
    "df[\"sentiment_label\"] = df[\"sentiment\"].apply(lambda x: \"positive\" if x > 0 else \"negative\" if x < 0 else \"neutral\")\n",
    "\n",
    "# Save the sentiment data\n",
    "df.to_csv(\"sentiment_telegram_messages.csv\", index=False)\n"
   ]
  },
  {
   "cell_type": "markdown",
   "id": "9346c605-4871-4df9-bb00-f9b67131700e",
   "metadata": {},
   "source": [
    "## VISUALIZE"
   ]
  },
  {
   "cell_type": "code",
   "execution_count": 12,
   "id": "fe1f88aa-6621-47f3-9601-9519cf9c6ec2",
   "metadata": {},
   "outputs": [
    {
     "data": {
      "image/png": "[encoded data removed]",
      "text/plain": [
       "<Figure size 640x480 with 1 Axes>"
      ]
     },
     "metadata": {},
     "output_type": "display_data"
    }
   ],
   "source": [
    "import matplotlib.pyplot as plt\n",
    "\n",
    "# Plot sentiment counts\n",
    "df[\"sentiment_label\"].value_counts().plot(kind=\"bar\", color=[\"green\", \"red\", \"blue\"])\n",
    "plt.title(\"Sentiment Distribution\")\n",
    "plt.xlabel(\"Sentiment\")\n",
    "plt.ylabel(\"Number of Messages\")\n",
    "plt.show()\n"
   ]
  },
  {
   "cell_type": "code",
   "execution_count": null,
   "id": "636e0ecc-381c-49c3-93ff-3a794c0c4ee7",
   "metadata": {},
   "outputs": [],
   "source": []
  }
 ],
 "metadata": {
  "kernelspec": {
   "display_name": "Python 3 (ipykernel)",
   "language": "python",
   "name": "python3"
  },
  "language_info": {
   "codemirror_mode": {
    "name": "ipython",
    "version": 3
   },
   "file_extension": ".py",
   "mimetype": "text/x-python",
   "name": "python",
   "nbconvert_exporter": "python",
   "pygments_lexer": "ipython3",
   "version": "3.12.4"
  }
 },
 "nbformat": 4,
 "nbformat_minor": 5
}
